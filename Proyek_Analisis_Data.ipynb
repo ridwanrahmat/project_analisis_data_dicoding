{
  "cells": [
    {
      "cell_type": "markdown",
      "metadata": {
        "id": "view-in-github",
        "colab_type": "text"
      },
      "source": [
        "<a href=\"https://colab.research.google.com/github/ridwanrahmat/project_analisis_data_dicoding/blob/main/Proyek_Analisis_Data.ipynb\" target=\"_parent\"><img src=\"https://colab.research.google.com/assets/colab-badge.svg\" alt=\"Open In Colab\"/></a>"
      ]
    },
    {
      "cell_type": "markdown",
      "metadata": {
        "id": "H9wADwK78DCz"
      },
      "source": [
        "# Proyek Analisis Data: Bike Sharing\n",
        "- **Nama:** Ridwan Rahmat\n",
        "- **Email:** lapaknyaridwan@gmail.com\n",
        "- **ID Dicoding:** ridwanrahmat"
      ]
    },
    {
      "cell_type": "markdown",
      "metadata": {
        "id": "eE0raob58DC0"
      },
      "source": [
        "## Menentukan Pertanyaan Bisnis"
      ]
    },
    {
      "cell_type": "markdown",
      "metadata": {
        "id": "GmQeQ5YF8DC0"
      },
      "source": [
        "- Pertanyaan 1\n",
        "Bagaimana pola penggunaan sepeda berubah sepanjang hari? Apakah ada waktu tertentu di mana penggunaan sepeda paling tinggi atau paling rendah?\n",
        "- Pertanyaan 2\n",
        "Apakah cuaca memengaruhi jumlah penggunaan sepeda? Misalnya, apakah cuaca hujan mengurangi jumlah peminjaman sepeda?"
      ]
    },
    {
      "cell_type": "markdown",
      "metadata": {
        "id": "H-z4QGlO8DC1"
      },
      "source": [
        "## Import Semua Packages/Library yang Digunakan"
      ]
    },
    {
      "cell_type": "code",
      "execution_count": 37,
      "metadata": {
        "id": "FVYwaObI8DC1"
      },
      "outputs": [],
      "source": [
        "import pandas as pd\n",
        "import numpy as np\n",
        "import matplotlib.pyplot as plt\n",
        "import seaborn as sns\n",
        "import pandas as pd\n",
        "import plotly.express as px\n",
        "import warnings\n",
        "import sklearn\n",
        "import datetime\n",
        "import statsmodels.api as sm"
      ]
    },
    {
      "cell_type": "markdown",
      "metadata": {
        "id": "h_Sh51Xy8DC1"
      },
      "source": [
        "## Data Wrangling"
      ]
    },
    {
      "cell_type": "markdown",
      "metadata": {
        "id": "sXU2GBYu8DC1"
      },
      "source": [
        "### Gathering Data"
      ]
    },
    {
      "cell_type": "code",
      "execution_count": 8,
      "metadata": {
        "id": "zjCBk1BI8DC1",
        "colab": {
          "base_uri": "https://localhost:8080/"
        },
        "outputId": "336b2a70-0e18-4d4d-a548-8ee7ed5f0acf"
      },
      "outputs": [
        {
          "output_type": "stream",
          "name": "stdout",
          "text": [
            "   instant      dteday  season  yr  mnth  holiday  weekday  workingday  \\\n",
            "0        1  2011-01-01       1   0     1        0        6           0   \n",
            "1        2  2011-01-02       1   0     1        0        0           0   \n",
            "2        3  2011-01-03       1   0     1        0        1           1   \n",
            "3        4  2011-01-04       1   0     1        0        2           1   \n",
            "4        5  2011-01-05       1   0     1        0        3           1   \n",
            "\n",
            "   weathersit      temp     atemp       hum  windspeed  casual  registered  \\\n",
            "0           2  0.344167  0.363625  0.805833   0.160446     331         654   \n",
            "1           2  0.363478  0.353739  0.696087   0.248539     131         670   \n",
            "2           1  0.196364  0.189405  0.437273   0.248309     120        1229   \n",
            "3           1  0.200000  0.212122  0.590435   0.160296     108        1454   \n",
            "4           1  0.226957  0.229270  0.436957   0.186900      82        1518   \n",
            "\n",
            "    cnt  \n",
            "0   985  \n",
            "1   801  \n",
            "2  1349  \n",
            "3  1562  \n",
            "4  1600  \n",
            "   instant      dteday  season  yr  mnth  hr  holiday  weekday  workingday  \\\n",
            "0        1  2011-01-01       1   0     1   0        0        6           0   \n",
            "1        2  2011-01-01       1   0     1   1        0        6           0   \n",
            "2        3  2011-01-01       1   0     1   2        0        6           0   \n",
            "3        4  2011-01-01       1   0     1   3        0        6           0   \n",
            "4        5  2011-01-01       1   0     1   4        0        6           0   \n",
            "\n",
            "   weathersit  temp   atemp   hum  windspeed  casual  registered  cnt  \n",
            "0           1  0.24  0.2879  0.81        0.0       3          13   16  \n",
            "1           1  0.22  0.2727  0.80        0.0       8          32   40  \n",
            "2           1  0.22  0.2727  0.80        0.0       5          27   32  \n",
            "3           1  0.24  0.2879  0.75        0.0       3          10   13  \n",
            "4           1  0.24  0.2879  0.75        0.0       0           1    1  \n"
          ]
        }
      ],
      "source": [
        "df_day = pd.read_csv(\"https://raw.githubusercontent.com/ridwanrahmat/project_analisis_data_dicoding/main/Dataset/day.csv\")\n",
        "df_hour = pd.read_csv(\"https://raw.githubusercontent.com/ridwanrahmat/project_analisis_data_dicoding/main/Dataset/hour.csv\")\n",
        "\n",
        "print(df_day.head())\n",
        "print(df_hour.head())"
      ]
    },
    {
      "cell_type": "markdown",
      "source": [
        "Data dikumpulkan dari dataset yang berbentuk file CSV yang telah diberikan dan dihosting di Github (df_day dan df_hour) menggunakan pd.read_csv(). Dataset ini berisi data harian dan jam yang terkait dengan proyek bike sharing data"
      ],
      "metadata": {
        "id": "omqxu_Rmbk-W"
      }
    },
    {
      "cell_type": "markdown",
      "metadata": {
        "id": "FHSiqaZp8DC1"
      },
      "source": [
        "### Assessing Data"
      ]
    },
    {
      "cell_type": "code",
      "source": [
        "print('Dataframe day:')\n",
        "print(df_day.info())\n",
        "print('\\nDataframe day:')\n",
        "print(df_day.describe())\n",
        "print('\\nDataframe day:')\n",
        "print(df_day.isna().sum())\n",
        "print('Dataframe day:', df_day.duplicated().sum())\n",
        "print('\\nDataframe day:')\n",
        "print(df_day.isnull().sum())\n",
        "\n",
        "print('\\nDataframe hour:')\n",
        "print(df_hour.info())\n",
        "print('\\nDataframe hour:')\n",
        "print(df_hour.describe())\n",
        "print('\\nDataframe hour:')\n",
        "print(df_hour.isna().sum())\n",
        "print(\"Dataframe hour:\", df_hour.duplicated().sum())\n",
        "print('\\nDataframe hour:')\n",
        "print(df_hour.isnull().sum())"
      ],
      "metadata": {
        "id": "ax-3tEjc9Cj1",
        "colab": {
          "base_uri": "https://localhost:8080/"
        },
        "outputId": "b70532c8-44a9-4b20-d4d5-937e80aba240"
      },
      "execution_count": 14,
      "outputs": [
        {
          "output_type": "stream",
          "name": "stdout",
          "text": [
            "Dataframe day:\n",
            "<class 'pandas.core.frame.DataFrame'>\n",
            "RangeIndex: 731 entries, 0 to 730\n",
            "Data columns (total 16 columns):\n",
            " #   Column      Non-Null Count  Dtype  \n",
            "---  ------      --------------  -----  \n",
            " 0   instant     731 non-null    int64  \n",
            " 1   dteday      731 non-null    object \n",
            " 2   season      731 non-null    int64  \n",
            " 3   yr          731 non-null    int64  \n",
            " 4   mnth        731 non-null    int64  \n",
            " 5   holiday     731 non-null    int64  \n",
            " 6   weekday     731 non-null    int64  \n",
            " 7   workingday  731 non-null    int64  \n",
            " 8   weathersit  731 non-null    int64  \n",
            " 9   temp        731 non-null    float64\n",
            " 10  atemp       731 non-null    float64\n",
            " 11  hum         731 non-null    float64\n",
            " 12  windspeed   731 non-null    float64\n",
            " 13  casual      731 non-null    int64  \n",
            " 14  registered  731 non-null    int64  \n",
            " 15  cnt         731 non-null    int64  \n",
            "dtypes: float64(4), int64(11), object(1)\n",
            "memory usage: 91.5+ KB\n",
            "None\n",
            "\n",
            "Dataframe day:\n",
            "          instant      season          yr        mnth     holiday     weekday  \\\n",
            "count  731.000000  731.000000  731.000000  731.000000  731.000000  731.000000   \n",
            "mean   366.000000    2.496580    0.500684    6.519836    0.028728    2.997264   \n",
            "std    211.165812    1.110807    0.500342    3.451913    0.167155    2.004787   \n",
            "min      1.000000    1.000000    0.000000    1.000000    0.000000    0.000000   \n",
            "25%    183.500000    2.000000    0.000000    4.000000    0.000000    1.000000   \n",
            "50%    366.000000    3.000000    1.000000    7.000000    0.000000    3.000000   \n",
            "75%    548.500000    3.000000    1.000000   10.000000    0.000000    5.000000   \n",
            "max    731.000000    4.000000    1.000000   12.000000    1.000000    6.000000   \n",
            "\n",
            "       workingday  weathersit        temp       atemp         hum   windspeed  \\\n",
            "count  731.000000  731.000000  731.000000  731.000000  731.000000  731.000000   \n",
            "mean     0.683995    1.395349    0.495385    0.474354    0.627894    0.190486   \n",
            "std      0.465233    0.544894    0.183051    0.162961    0.142429    0.077498   \n",
            "min      0.000000    1.000000    0.059130    0.079070    0.000000    0.022392   \n",
            "25%      0.000000    1.000000    0.337083    0.337842    0.520000    0.134950   \n",
            "50%      1.000000    1.000000    0.498333    0.486733    0.626667    0.180975   \n",
            "75%      1.000000    2.000000    0.655417    0.608602    0.730209    0.233214   \n",
            "max      1.000000    3.000000    0.861667    0.840896    0.972500    0.507463   \n",
            "\n",
            "            casual   registered          cnt  \n",
            "count   731.000000   731.000000   731.000000  \n",
            "mean    848.176471  3656.172367  4504.348837  \n",
            "std     686.622488  1560.256377  1937.211452  \n",
            "min       2.000000    20.000000    22.000000  \n",
            "25%     315.500000  2497.000000  3152.000000  \n",
            "50%     713.000000  3662.000000  4548.000000  \n",
            "75%    1096.000000  4776.500000  5956.000000  \n",
            "max    3410.000000  6946.000000  8714.000000  \n",
            "\n",
            "Dataframe day:\n",
            "instant       0\n",
            "dteday        0\n",
            "season        0\n",
            "yr            0\n",
            "mnth          0\n",
            "holiday       0\n",
            "weekday       0\n",
            "workingday    0\n",
            "weathersit    0\n",
            "temp          0\n",
            "atemp         0\n",
            "hum           0\n",
            "windspeed     0\n",
            "casual        0\n",
            "registered    0\n",
            "cnt           0\n",
            "dtype: int64\n",
            "Dataframe day: 0\n",
            "\n",
            "Dataframe day:\n",
            "instant       0\n",
            "dteday        0\n",
            "season        0\n",
            "yr            0\n",
            "mnth          0\n",
            "holiday       0\n",
            "weekday       0\n",
            "workingday    0\n",
            "weathersit    0\n",
            "temp          0\n",
            "atemp         0\n",
            "hum           0\n",
            "windspeed     0\n",
            "casual        0\n",
            "registered    0\n",
            "cnt           0\n",
            "dtype: int64\n",
            "\n",
            "Dataframe hour:\n",
            "<class 'pandas.core.frame.DataFrame'>\n",
            "RangeIndex: 17379 entries, 0 to 17378\n",
            "Data columns (total 17 columns):\n",
            " #   Column      Non-Null Count  Dtype  \n",
            "---  ------      --------------  -----  \n",
            " 0   instant     17379 non-null  int64  \n",
            " 1   dteday      17379 non-null  object \n",
            " 2   season      17379 non-null  int64  \n",
            " 3   yr          17379 non-null  int64  \n",
            " 4   mnth        17379 non-null  int64  \n",
            " 5   hr          17379 non-null  int64  \n",
            " 6   holiday     17379 non-null  int64  \n",
            " 7   weekday     17379 non-null  int64  \n",
            " 8   workingday  17379 non-null  int64  \n",
            " 9   weathersit  17379 non-null  int64  \n",
            " 10  temp        17379 non-null  float64\n",
            " 11  atemp       17379 non-null  float64\n",
            " 12  hum         17379 non-null  float64\n",
            " 13  windspeed   17379 non-null  float64\n",
            " 14  casual      17379 non-null  int64  \n",
            " 15  registered  17379 non-null  int64  \n",
            " 16  cnt         17379 non-null  int64  \n",
            "dtypes: float64(4), int64(12), object(1)\n",
            "memory usage: 2.3+ MB\n",
            "None\n",
            "\n",
            "Dataframe hour:\n",
            "          instant        season            yr          mnth            hr  \\\n",
            "count  17379.0000  17379.000000  17379.000000  17379.000000  17379.000000   \n",
            "mean    8690.0000      2.501640      0.502561      6.537775     11.546752   \n",
            "std     5017.0295      1.106918      0.500008      3.438776      6.914405   \n",
            "min        1.0000      1.000000      0.000000      1.000000      0.000000   \n",
            "25%     4345.5000      2.000000      0.000000      4.000000      6.000000   \n",
            "50%     8690.0000      3.000000      1.000000      7.000000     12.000000   \n",
            "75%    13034.5000      3.000000      1.000000     10.000000     18.000000   \n",
            "max    17379.0000      4.000000      1.000000     12.000000     23.000000   \n",
            "\n",
            "            holiday       weekday    workingday    weathersit          temp  \\\n",
            "count  17379.000000  17379.000000  17379.000000  17379.000000  17379.000000   \n",
            "mean       0.028770      3.003683      0.682721      1.425283      0.496987   \n",
            "std        0.167165      2.005771      0.465431      0.639357      0.192556   \n",
            "min        0.000000      0.000000      0.000000      1.000000      0.020000   \n",
            "25%        0.000000      1.000000      0.000000      1.000000      0.340000   \n",
            "50%        0.000000      3.000000      1.000000      1.000000      0.500000   \n",
            "75%        0.000000      5.000000      1.000000      2.000000      0.660000   \n",
            "max        1.000000      6.000000      1.000000      4.000000      1.000000   \n",
            "\n",
            "              atemp           hum     windspeed        casual    registered  \\\n",
            "count  17379.000000  17379.000000  17379.000000  17379.000000  17379.000000   \n",
            "mean       0.475775      0.627229      0.190098     35.676218    153.786869   \n",
            "std        0.171850      0.192930      0.122340     49.305030    151.357286   \n",
            "min        0.000000      0.000000      0.000000      0.000000      0.000000   \n",
            "25%        0.333300      0.480000      0.104500      4.000000     34.000000   \n",
            "50%        0.484800      0.630000      0.194000     17.000000    115.000000   \n",
            "75%        0.621200      0.780000      0.253700     48.000000    220.000000   \n",
            "max        1.000000      1.000000      0.850700    367.000000    886.000000   \n",
            "\n",
            "                cnt  \n",
            "count  17379.000000  \n",
            "mean     189.463088  \n",
            "std      181.387599  \n",
            "min        1.000000  \n",
            "25%       40.000000  \n",
            "50%      142.000000  \n",
            "75%      281.000000  \n",
            "max      977.000000  \n",
            "\n",
            "Dataframe hour:\n",
            "instant       0\n",
            "dteday        0\n",
            "season        0\n",
            "yr            0\n",
            "mnth          0\n",
            "hr            0\n",
            "holiday       0\n",
            "weekday       0\n",
            "workingday    0\n",
            "weathersit    0\n",
            "temp          0\n",
            "atemp         0\n",
            "hum           0\n",
            "windspeed     0\n",
            "casual        0\n",
            "registered    0\n",
            "cnt           0\n",
            "dtype: int64\n",
            "Dataframe hour: 0\n",
            "\n",
            "Dataframe hour:\n",
            "instant       0\n",
            "dteday        0\n",
            "season        0\n",
            "yr            0\n",
            "mnth          0\n",
            "hr            0\n",
            "holiday       0\n",
            "weekday       0\n",
            "workingday    0\n",
            "weathersit    0\n",
            "temp          0\n",
            "atemp         0\n",
            "hum           0\n",
            "windspeed     0\n",
            "casual        0\n",
            "registered    0\n",
            "cnt           0\n",
            "dtype: int64\n"
          ]
        }
      ]
    },
    {
      "cell_type": "markdown",
      "source": [
        "\n",
        "\n",
        "*    Berdasarkan hasil observasi pada df_day, terdapat kesalahan dalam jenis data pada kolom dteday yang awalnya berupa objek, tetapi seharusnya berupa tipe data datetime.\n",
        "*   Dari hasil pemeriksaan pada dataset df_day dan df_hour, tidak ada nilai yang hilang atau kosong.\n",
        "*  Berdasarkan pemeriksaan duplicate data, tidak ada data yang terduplikasi\n",
        "\n",
        "\n",
        "\n"
      ],
      "metadata": {
        "id": "EhVyE40Vd0DG"
      }
    },
    {
      "cell_type": "markdown",
      "metadata": {
        "id": "EhN5R4hr8DC1"
      },
      "source": [
        "### Cleaning Data"
      ]
    },
    {
      "cell_type": "code",
      "source": [
        "# df_day\n",
        "df_day[\"dteday\"] = pd.to_datetime(df_day[\"dteday\"])\n",
        "print('df_day[\"dteday\"] : ', df_day[\"dteday\"].dtypes)"
      ],
      "metadata": {
        "colab": {
          "base_uri": "https://localhost:8080/"
        },
        "id": "e-6tk6_nhMma",
        "outputId": "147d01b3-907c-492a-9499-bf0c1cf46336"
      },
      "execution_count": 17,
      "outputs": [
        {
          "output_type": "stream",
          "name": "stdout",
          "text": [
            "df_day[\"dteday\"] :  datetime64[ns]\n"
          ]
        }
      ]
    },
    {
      "cell_type": "markdown",
      "source": [
        "Mengkonversi kolom \"dteday\" dalam DataFrame df_day menjadi tipe data datetime, dan kemudian mencetak tipe data dari kolom \"dteday\" setelah konversi dilakukan. Hal ini berguna untuk memastikan bahwa konversi berhasil dilakukan dan data sudah siap untuk digunakan dalam operasi yang melibatkan tanggal dan waktu."
      ],
      "metadata": {
        "id": "YUFqHK-FkITr"
      }
    },
    {
      "cell_type": "code",
      "source": [
        "# df_hour\n",
        "df_hour[\"dteday\"] = pd.to_datetime(df_hour[\"dteday\"])\n",
        "print('df_hour[\"dteday\"] : ', df_hour[\"dteday\"].dtypes)"
      ],
      "metadata": {
        "colab": {
          "base_uri": "https://localhost:8080/"
        },
        "id": "fTW_qWrzhUFA",
        "outputId": "bb9fe6bc-322b-4cae-9e73-dfbcf64c918e"
      },
      "execution_count": 18,
      "outputs": [
        {
          "output_type": "stream",
          "name": "stdout",
          "text": [
            "df_hour[\"dteday\"] :  datetime64[ns]\n"
          ]
        }
      ]
    },
    {
      "cell_type": "code",
      "source": [
        "df_day.fillna(method='ffill', inplace = True)\n",
        "df_hour.fillna(method = 'ffill', inplace=True)\n",
        "print(df_day)\n",
        "print(df_hour)"
      ],
      "metadata": {
        "colab": {
          "base_uri": "https://localhost:8080/"
        },
        "id": "s9h7nmAJi48_",
        "outputId": "42f95979-5d01-42ea-c824-f4f1d5dab487"
      },
      "execution_count": 21,
      "outputs": [
        {
          "output_type": "stream",
          "name": "stdout",
          "text": [
            "     instant     dteday  season  yr  mnth  holiday  weekday  workingday  \\\n",
            "0          1 2011-01-01       1   0     1        0        6           0   \n",
            "1          2 2011-01-02       1   0     1        0        0           0   \n",
            "2          3 2011-01-03       1   0     1        0        1           1   \n",
            "3          4 2011-01-04       1   0     1        0        2           1   \n",
            "4          5 2011-01-05       1   0     1        0        3           1   \n",
            "..       ...        ...     ...  ..   ...      ...      ...         ...   \n",
            "726      727 2012-12-27       1   1    12        0        4           1   \n",
            "727      728 2012-12-28       1   1    12        0        5           1   \n",
            "728      729 2012-12-29       1   1    12        0        6           0   \n",
            "729      730 2012-12-30       1   1    12        0        0           0   \n",
            "730      731 2012-12-31       1   1    12        0        1           1   \n",
            "\n",
            "     weathersit      temp     atemp       hum  windspeed  casual  registered  \\\n",
            "0             2  0.344167  0.363625  0.805833   0.160446     331         654   \n",
            "1             2  0.363478  0.353739  0.696087   0.248539     131         670   \n",
            "2             1  0.196364  0.189405  0.437273   0.248309     120        1229   \n",
            "3             1  0.200000  0.212122  0.590435   0.160296     108        1454   \n",
            "4             1  0.226957  0.229270  0.436957   0.186900      82        1518   \n",
            "..          ...       ...       ...       ...        ...     ...         ...   \n",
            "726           2  0.254167  0.226642  0.652917   0.350133     247        1867   \n",
            "727           2  0.253333  0.255046  0.590000   0.155471     644        2451   \n",
            "728           2  0.253333  0.242400  0.752917   0.124383     159        1182   \n",
            "729           1  0.255833  0.231700  0.483333   0.350754     364        1432   \n",
            "730           2  0.215833  0.223487  0.577500   0.154846     439        2290   \n",
            "\n",
            "      cnt  \n",
            "0     985  \n",
            "1     801  \n",
            "2    1349  \n",
            "3    1562  \n",
            "4    1600  \n",
            "..    ...  \n",
            "726  2114  \n",
            "727  3095  \n",
            "728  1341  \n",
            "729  1796  \n",
            "730  2729  \n",
            "\n",
            "[731 rows x 16 columns]\n",
            "       instant     dteday  season  yr  mnth  hr  holiday  weekday  workingday  \\\n",
            "0            1 2011-01-01       1   0     1   0        0        6           0   \n",
            "1            2 2011-01-01       1   0     1   1        0        6           0   \n",
            "2            3 2011-01-01       1   0     1   2        0        6           0   \n",
            "3            4 2011-01-01       1   0     1   3        0        6           0   \n",
            "4            5 2011-01-01       1   0     1   4        0        6           0   \n",
            "...        ...        ...     ...  ..   ...  ..      ...      ...         ...   \n",
            "17374    17375 2012-12-31       1   1    12  19        0        1           1   \n",
            "17375    17376 2012-12-31       1   1    12  20        0        1           1   \n",
            "17376    17377 2012-12-31       1   1    12  21        0        1           1   \n",
            "17377    17378 2012-12-31       1   1    12  22        0        1           1   \n",
            "17378    17379 2012-12-31       1   1    12  23        0        1           1   \n",
            "\n",
            "       weathersit  temp   atemp   hum  windspeed  casual  registered  cnt  \n",
            "0               1  0.24  0.2879  0.81     0.0000       3          13   16  \n",
            "1               1  0.22  0.2727  0.80     0.0000       8          32   40  \n",
            "2               1  0.22  0.2727  0.80     0.0000       5          27   32  \n",
            "3               1  0.24  0.2879  0.75     0.0000       3          10   13  \n",
            "4               1  0.24  0.2879  0.75     0.0000       0           1    1  \n",
            "...           ...   ...     ...   ...        ...     ...         ...  ...  \n",
            "17374           2  0.26  0.2576  0.60     0.1642      11         108  119  \n",
            "17375           2  0.26  0.2576  0.60     0.1642       8          81   89  \n",
            "17376           1  0.26  0.2576  0.60     0.1642       7          83   90  \n",
            "17377           1  0.26  0.2727  0.56     0.1343      13          48   61  \n",
            "17378           1  0.26  0.2727  0.65     0.1343      12          37   49  \n",
            "\n",
            "[17379 rows x 17 columns]\n"
          ]
        }
      ]
    },
    {
      "cell_type": "markdown",
      "source": [
        "Setelah melakukan pembersihan data menggunakan metode fillna(method='ffill'), data yang telah dibersihkan akan memiliki nilai-nilai yang sebelumnya hilang (NaN) digantikan dengan nilai dari baris sebelumnya dalam DataFrame. Namun, dalam kasus ini, karena tidak ada nilai-nilai yang hilang dalam data yang diberikan, penggunaan fillna(method='ffill') pada data tersebut tidak akan mengubah data sama sekali."
      ],
      "metadata": {
        "id": "2JBzP8h3jxKn"
      }
    },
    {
      "cell_type": "markdown",
      "metadata": {
        "id": "gp-Y6wU38DC1"
      },
      "source": [
        "## Exploratory Data Analysis (EDA)"
      ]
    },
    {
      "cell_type": "markdown",
      "metadata": {
        "id": "MW7WF2kr8DC1"
      },
      "source": [
        "### Explore ..."
      ]
    },
    {
      "cell_type": "code",
      "execution_count": 22,
      "metadata": {
        "id": "e9CQCZjk8DC2",
        "colab": {
          "base_uri": "https://localhost:8080/"
        },
        "outputId": "13d48f0b-6a8b-4266-8f17-1ef3fd69a115"
      },
      "outputs": [
        {
          "output_type": "stream",
          "name": "stdout",
          "text": [
            "Data Bike Sharing Setiap Jam:\n",
            "   instant     dteday  season  yr  mnth  hr  holiday  weekday  workingday  \\\n",
            "0        1 2011-01-01       1   0     1   0        0        6           0   \n",
            "1        2 2011-01-01       1   0     1   1        0        6           0   \n",
            "2        3 2011-01-01       1   0     1   2        0        6           0   \n",
            "3        4 2011-01-01       1   0     1   3        0        6           0   \n",
            "4        5 2011-01-01       1   0     1   4        0        6           0   \n",
            "\n",
            "   weathersit  temp   atemp   hum  windspeed  casual  registered  cnt  \n",
            "0           1  0.24  0.2879  0.81        0.0       3          13   16  \n",
            "1           1  0.22  0.2727  0.80        0.0       8          32   40  \n",
            "2           1  0.22  0.2727  0.80        0.0       5          27   32  \n",
            "3           1  0.24  0.2879  0.75        0.0       3          10   13  \n",
            "4           1  0.24  0.2879  0.75        0.0       0           1    1  \n"
          ]
        }
      ],
      "source": [
        "print(\"Data Bike Sharing Setiap Jam:\")\n",
        "print(df_hour.head())"
      ]
    },
    {
      "cell_type": "code",
      "source": [
        "df_hour['hour'] = pd.to_datetime(df_hour[\"dteday\"]).dt.hour"
      ],
      "metadata": {
        "id": "9r0EXUG9lWj6"
      },
      "execution_count": 24,
      "outputs": []
    },
    {
      "cell_type": "code",
      "source": [
        "df_hour_average = df_hour.groupby('hour')['cnt'].mean()"
      ],
      "metadata": {
        "id": "RAJX6niUmq6j"
      },
      "execution_count": 25,
      "outputs": []
    },
    {
      "cell_type": "code",
      "source": [
        "sns.catplot(x='hr', y='cnt', hue='workingday', kind='bar', data=df_hour, aspect=3)\n",
        "plt.figure(figsize=(10, 6))\n",
        "df_hour_average.plot(kind='line', marker='o', color='b')\n",
        "plt.title('Pola Penggunaan Sepeda Setiap Jam')\n",
        "plt.xlabel('Jam dalam Sehari')\n",
        "plt.ylabel('Jumlah Rata-rata Sepeda yang Dipinjam')\n",
        "plt.xticks(range(0, 24))\n",
        "plt.grid(True)\n",
        "plt.show()"
      ],
      "metadata": {
        "id": "5TISqlABm7AU"
      },
      "execution_count": null,
      "outputs": []
    },
    {
      "cell_type": "markdown",
      "metadata": {
        "id": "zsyZjqak8DC2"
      },
      "source": [
        "## Visualization & Explanatory Analysis"
      ]
    },
    {
      "cell_type": "markdown",
      "metadata": {
        "id": "HZxOiQ6n8DC2"
      },
      "source": [
        "### Pertanyaan 1:"
      ]
    },
    {
      "cell_type": "code",
      "execution_count": 28,
      "metadata": {
        "id": "1swJUdAD8DC2"
      },
      "outputs": [],
      "source": [
        "df_hour['hour'] = pd.to_datetime(df_hour[\"dteday\"]).dt.hour"
      ]
    },
    {
      "cell_type": "code",
      "source": [
        "df_hour_average = df_hour.groupby('hour')['cnt'].mean().reset_index()"
      ],
      "metadata": {
        "id": "S6VlGlRcpYd0"
      },
      "execution_count": 29,
      "outputs": []
    },
    {
      "cell_type": "code",
      "source": [
        "max_hour = df_hour_average.loc[df_hour_average['cnt'].idxmax()]\n",
        "min_hour = df_hour_average.loc[df_hour_average['cnt'].idxmin()]"
      ],
      "metadata": {
        "id": "gKVpM6zBpi-L"
      },
      "execution_count": 31,
      "outputs": []
    },
    {
      "cell_type": "code",
      "source": [
        "peak_hours = df_hour.groupby(['workingday', 'hr'])['cnt'].mean().unstack(0)\n",
        "peak_hours.plot(kind='bar', figsize=(15, 5))\n",
        "plt.title('Rata-rata Jumlah Peminjaman Sepeda per Jam: Hari Kerja (1) vs Akhir Pekan (0)')\n",
        "plt.xlabel('Jam')\n",
        "plt.ylabel('Rata-rata Jumlah Peminjaman')\n",
        "plt.legend(title='Hari Kerja')"
      ],
      "metadata": {
        "id": "znctm6QUqNek"
      },
      "execution_count": null,
      "outputs": []
    },
    {
      "cell_type": "code",
      "source": [
        "plt.annotate(f'Maksimum: Jam {int(max_hour[\"hour\"])}', xy=(max_hour['hour'], max_hour['cnt']), xytext=(max_hour['hour'] - 3, max_hour['cnt'] + 50),\n",
        "             arrowprops=dict(facecolor='black', shrink=0.05))\n"
      ],
      "metadata": {
        "id": "iJjU1-GqqZ9l"
      },
      "execution_count": null,
      "outputs": []
    },
    {
      "cell_type": "code",
      "source": [
        "plt.annotate(f'Minimum: Jam {int(min_hour[\"hour\"])}', xy=(min_hour['hour'], min_hour['cnt']), xytext=(min_hour['hour'] + 1, min_hour['cnt'] - 50),\n",
        "             arrowprops=dict(facecolor='black', shrink=0.05))\n",
        "\n",
        "plt.show()"
      ],
      "metadata": {
        "id": "k1_4EKLmqhwD"
      },
      "execution_count": null,
      "outputs": []
    },
    {
      "cell_type": "markdown",
      "metadata": {
        "id": "DgHI7CiU8DC2"
      },
      "source": [
        "### Pertanyaan 2:"
      ]
    },
    {
      "cell_type": "code",
      "execution_count": null,
      "metadata": {
        "id": "Go0lCsvO8DC2"
      },
      "outputs": [],
      "source": [
        "# Filter musim hujan (season 4)\n",
        "filtered_data = df_day[df_day[\"season\"] == 4]\n",
        "\n",
        "# Buat plot dengan Plotly untuk menganalisis pengaruh cuaca terhadap jumlah sewa sepeda\n",
        "fig = px.bar(filtered_data, x=\"weathersit\", y=\"cnt\", title=\"Pengaruh Cuaca terhadap Jumlah Sewa Sepeda (Musim Hujan)\")\n",
        "fig.update_xaxes(title=\"Cuaca (weathersit)\")\n",
        "fig.update_yaxes(title=\"Jumlah Sewa Sepeda (cnt)\")\n",
        "\n",
        "# Tampilkan plot\n",
        "fig.show()"
      ]
    },
    {
      "cell_type": "markdown",
      "source": [
        "\n",
        "\n",
        "*   **Filter Data**: Baris pertama filtered_data = df_day[df_day[\"season\"] == 4] bertujuan untuk memfilter data berdasarkan musim hujan. Filter ini dilakukan dengan mengambil baris-baris dari DataFrame df_day di mana nilai kolom \"season\" adalah 4, yang menunjukkan musim hujan.\n",
        "*  **Membuat Plot**: Selanjutnya, kode menggunakan Plotly untuk membuat plot bar yang menampilkan pengaruh cuaca terhadap jumlah sewa sepeda selama musim hujan. Plot ini dibuat dengan memasukkan data yang sudah difilter (filtered_data) sebagai input untuk plot. Variabel x menunjukkan kolom \"weathersit\" yang merupakan kategori cuaca, sedangkan variabel y menunjukkan jumlah sewa sepeda (\"cnt\").\n",
        "*   **Update Label Axis**: Kode kemudian memperbarui label sumbu x dan y dengan menggunakan metode update_xaxes() dan update_yaxes() untuk memberi judul pada sumbu x dan y.\n",
        "*   **Tampilkan Plot**: Terakhir, kode menggunakan fig.show() untuk menampilkan plot yang telah dibuat.\n",
        "\n",
        "\n",
        "\n"
      ],
      "metadata": {
        "id": "qQ0HLkBlt7fr"
      }
    },
    {
      "cell_type": "markdown",
      "metadata": {
        "id": "_WeHlCeX8DC2"
      },
      "source": [
        "## Conclusion"
      ]
    },
    {
      "cell_type": "markdown",
      "source": [
        "\n",
        "\n",
        "1.   Selama hari kerja, terjadi tren yang menarik dalam pola peminjaman sepeda di mana tingkat peminjaman mencapai puncaknya selama jam-jam sibuk saat orang berangkat ke tempat kerja di pagi hari, dan kemudian kembali lagi di sore atau awal malam setelah jam kerja selesai. Sebaliknya, pada akhir pekan, pola peminjaman menjadi lebih merata sepanjang hari, dengan lonjakan tertentu yang terjadi terutama pada siang hari. Hal ini menunjukkan bahwa perilaku peminjaman sepeda pada hari kerja dan akhir pekan memiliki perbedaan yang signifikan dalam pola dan trennya.\n",
        "\n",
        "\n",
        "2.   Cuaca memengaruhi jumlah sewa sepeda selama musim hujan, dengan menggunakan plot bar menggunakan Plotly. Hasil analisis menunjukkan bahwa cuaca berpengaruh besar terhadap jumlah sepeda yang disewa. Ketika cuaca cerah atau sebagian berawan, lebih banyak orang cenderung menyewa sepeda. Penyedia layanan sewa sepeda perlu memperhatikan kondisi cuaca untuk menyesuaikan persediaan dan strategi pemasaran.\n",
        "\n"
      ],
      "metadata": {
        "id": "1PFOip1Swc4e"
      }
    }
  ],
  "metadata": {
    "kernelspec": {
      "display_name": "Python 3",
      "language": "python",
      "name": "python3"
    },
    "language_info": {
      "name": "python",
      "version": "3.8.0 (tags/v3.8.0:fa919fd, Oct 14 2019, 19:21:23) [MSC v.1916 32 bit (Intel)]"
    },
    "orig_nbformat": 4,
    "vscode": {
      "interpreter": {
        "hash": "972b3bf27e332e87b5379f2791f6ef9dfc79c71018c370b0d7423235e20fe4d7"
      }
    },
    "colab": {
      "provenance": [],
      "include_colab_link": true
    }
  },
  "nbformat": 4,
  "nbformat_minor": 0
}